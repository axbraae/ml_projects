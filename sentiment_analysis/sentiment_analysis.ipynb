{
 "cells": [
  {
   "cell_type": "markdown",
   "metadata": {},
   "source": [
    "# Sentiment Analysis\n",
    "\n",
    "## Motivation\n",
    "\n",
    "I am a huge movie buff. My favourite thing to do is to watch movies. And I wanted to try a sentiment analysis in Python. Therefore I thought it would be great to do a sentiment analysis on the IMDb and Rotten Tomatoes datasets. Selfishly to generate an analysis for me!"
   ]
  },
  {
   "cell_type": "markdown",
   "metadata": {},
   "source": [
    "# Data\n",
    "\n",
    "- [The Open Movie Database](http://www.omdbapi.com/) <br />\n",
    "A RESTful API database to access movie information. Last updated 2019. <br />\n",
    "- [Rotten Tomatoes](https://www.kaggle.com/stefanoleone992/rotten-tomatoes-movies-and-critic-reviews-dataset) <br />\n",
    "Good old Kaggle dataset from Rotten Tomatoes. Note for future self - to access Rotten Tomatoes API you need to register for a key and they will not give this out for general use. <br />\n",
    "- [IMDb Datasets](https://www.imdb.com/interfaces/)<br />\n",
    "Direct from the website or from here:\n",
    "- [IMDb Dataset 2](https://aws.amazon.com/marketplace/pp/prodview-rvhjlbc3larps?sr=0-1&ref_=beagle&applicationId=AWSMPContessa#usage)<br />\n",
    "AWS IMDb dataset sample"
   ]
  }
 ],
 "metadata": {
  "language_info": {
   "name": "python"
  },
  "orig_nbformat": 4
 },
 "nbformat": 4,
 "nbformat_minor": 2
}
