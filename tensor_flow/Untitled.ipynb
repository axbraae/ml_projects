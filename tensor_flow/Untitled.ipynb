{
 "cells": [
  {
   "cell_type": "code",
   "execution_count": 1,
   "id": "440de387",
   "metadata": {},
   "outputs": [
    {
     "name": "stdout",
     "output_type": "stream",
     "text": [
      "Init Plugin\n",
      "Init Graph Optimizer\n",
      "Init Kernel\n",
      "Tensor Flow version: 2.5.0\n",
      "Keras version: 2.5.0\n",
      "\n",
      "Python version: 3.9.9 | packaged by conda-forge | (main, Dec 20 2021, 02:41:07) \n",
      "[Clang 11.1.0 ]\n",
      "Pandas 1.3.5\n",
      "Scikit-learn 1.0.2\n",
      "GPU is available\n"
     ]
    }
   ],
   "source": [
    "import sys\n",
    "\n",
    "import tensorflow.keras\n",
    "import pandas as pd\n",
    "import sklearn as sk\n",
    "import tensorflow as tf\n",
    "\n",
    "check_gpu = len(tf.config.list_physical_devices('GPU'))>0\n",
    "\n",
    "print(f\"Tensor Flow version: {tf.__version__}\")\n",
    "print(f\"Keras version: {tensorflow.keras.__version__}\")\n",
    "print()\n",
    "print(f\"Python version: {sys.version}\")\n",
    "print(f\"Pandas {pd.__version__}\")\n",
    "print(f\"Scikit-learn {sk.__version__}\")\n",
    "print(\"GPU is available\" if check_gpu \\\n",
    "     else \"NOT AVAILABLE\")"
   ]
  },
  {
   "cell_type": "code",
   "execution_count": null,
   "id": "60693fe8",
   "metadata": {},
   "outputs": [],
   "source": []
  }
 ],
 "metadata": {
  "kernelspec": {
   "display_name": "Python 3.9 (tensorflow)",
   "language": "python",
   "name": "tensorflow"
  },
  "language_info": {
   "codemirror_mode": {
    "name": "ipython",
    "version": 3
   },
   "file_extension": ".py",
   "mimetype": "text/x-python",
   "name": "python",
   "nbconvert_exporter": "python",
   "pygments_lexer": "ipython3",
   "version": "3.9.9"
  }
 },
 "nbformat": 4,
 "nbformat_minor": 5
}
